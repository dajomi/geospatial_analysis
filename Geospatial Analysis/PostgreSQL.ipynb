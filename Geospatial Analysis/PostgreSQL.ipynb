{
 "cells": [
  {
   "cell_type": "markdown",
   "id": "32e6eaef",
   "metadata": {},
   "source": [
    "## db 접근하기"
   ]
  },
  {
   "cell_type": "code",
   "execution_count": 2,
   "id": "990f10a8",
   "metadata": {},
   "outputs": [],
   "source": [
    "import psycopg2, pprint\n",
    "connection = psycopg2.connect(database=\"pythonspatial\", user=\"dajomi\", password=\"dajomi\")\n",
    "cursor = connection.cursor()"
   ]
  },
  {
   "cell_type": "markdown",
   "id": "16be0438",
   "metadata": {},
   "source": [
    "## point 테이블 만들기"
   ]
  },
  {
   "cell_type": "code",
   "execution_count": null,
   "id": "80017d17",
   "metadata": {},
   "outputs": [],
   "source": [
    "cursor.execute(\"CREATE TABLE points (id SERIAL PRIMARY KEY, name VARCHAR(255), location GEOMETRY)\")\n",
    "connection.commit()"
   ]
  },
  {
   "cell_type": "markdown",
   "id": "a38513a7",
   "metadata": {},
   "source": [
    "## 데이터 넣기(ST_GeomFromText로 wkt 형식으로 넣기)"
   ]
  },
  {
   "cell_type": "code",
   "execution_count": 3,
   "id": "f8e69800",
   "metadata": {},
   "outputs": [],
   "source": [
    "cursor.execute(\"INSERT INTO points (name, location) VALUES ('p1', ST_GeomFromText('POINT(100 40)'))\")\n",
    "cursor.execute(\"INSERT INTO points (name, location) VALUES ('p1', ST_GeomFromText('POINT(100 30)'))\")\n",
    "cursor.execute(\"INSERT INTO points (name, location) VALUES ('p1', ST_GeomFromText('POINT(100 20)'))\")\n",
    "cursor.execute(\"INSERT INTO points (name, location) VALUES ('p1', ST_GeomFromText('POINT(120 45)'))\")\n",
    "cursor.execute(\"INSERT INTO points (name, location) VALUES ('p1', ST_GeomFromText('POINT(140 35)'))\")\n",
    "cursor.execute(\"INSERT INTO points (name, location) VALUES ('p1', ST_GeomFromText('POINT(110 45)'))\")\n",
    "connection.commit()"
   ]
  },
  {
   "cell_type": "markdown",
   "id": "9a88fc44",
   "metadata": {},
   "source": [
    "## 데이터 넣기(shapely를 이용하여 wkt 형식으로 넣기)"
   ]
  },
  {
   "cell_type": "code",
   "execution_count": 6,
   "id": "065adc89",
   "metadata": {},
   "outputs": [
    {
     "data": {
      "text/plain": [
       "[(1, 'p1', '010100000000000000000059400000000000004440'),\n",
       " (2, 'p1', '010100000000000000000059400000000000003E40'),\n",
       " (3, 'p1', '010100000000000000000059400000000000003440'),\n",
       " (4, 'p1', '01010000000000000000005E400000000000804640'),\n",
       " (5, 'p1', '010100000000000000008061400000000000804140'),\n",
       " (6, 'p1', '01010000000000000000805B400000000000804640'),\n",
       " (7, 'p1', '010100000000000000000059400000000000006940'),\n",
       " (8, 'p1', '010100000000000000000059400000000000005940')]"
      ]
     },
     "execution_count": 6,
     "metadata": {},
     "output_type": "execute_result"
    }
   ],
   "source": [
    "from shapely.geometry import Point, MultiPoint\n",
    "p = [Point(100,200), Point(100,100)]\n",
    "for pp in p:\n",
    "    s = (\"INSERT INTO points (name, location) VALUES ('p1',ST_GeomFromText('{}'))\").format(pp.wkt)\n",
    "    cursor.execute(s)\n",
    "connection.commit() \n",
    "\n",
    "cursor.execute(\"SELECT * from points\") \n",
    "cursor.fetchall() "
   ]
  },
  {
   "cell_type": "code",
   "execution_count": 9,
   "id": "f3879a91",
   "metadata": {},
   "outputs": [],
   "source": [
    "from shapely.geometry import Point, MultiPoint\n",
    "p = [Point(130, 200), Point(100,130)]\n",
    "for pp in p:\n",
    "    s = (\"INSERT INTO points (name, location) VALUES ('p2', ST_GeomFromText('{}'))\").format(pp.wkt) #format(pp.wkt) : WKT를 {} 플레이스 홀더에 전달\n",
    "    cursor.execute(s)\n",
    "connection.commit()"
   ]
  },
  {
   "cell_type": "code",
   "execution_count": 7,
   "id": "adb11d4d",
   "metadata": {},
   "outputs": [
    {
     "data": {
      "image/svg+xml": [
       "<svg xmlns=\"http://www.w3.org/2000/svg\" xmlns:xlink=\"http://www.w3.org/1999/xlink\" width=\"100.0\" height=\"108.0\" viewBox=\"96.0 96.0 8.0 108.0\" preserveAspectRatio=\"xMinYMin meet\"><g transform=\"matrix(1,0,0,-1,0,300.0)\"><g><circle cx=\"100.0\" cy=\"200.0\" r=\"3.0\" stroke=\"#555555\" stroke-width=\"1.0\" fill=\"#66cc99\" opacity=\"0.6\" /><circle cx=\"100.0\" cy=\"100.0\" r=\"3.0\" stroke=\"#555555\" stroke-width=\"1.0\" fill=\"#66cc99\" opacity=\"0.6\" /></g></g></svg>"
      ],
      "text/plain": [
       "<shapely.geometry.multipoint.MultiPoint at 0x1b992ac94c0>"
      ]
     },
     "execution_count": 7,
     "metadata": {},
     "output_type": "execute_result"
    }
   ],
   "source": [
    "MultiPoint(p)"
   ]
  },
  {
   "cell_type": "markdown",
   "id": "37669123",
   "metadata": {},
   "source": [
    "## 테이블 조회(WKB 형태로 출력)"
   ]
  },
  {
   "cell_type": "code",
   "execution_count": 8,
   "id": "d45eaf5c",
   "metadata": {},
   "outputs": [
    {
     "data": {
      "text/plain": [
       "[(1, 'p1', '010100000000000000000059400000000000004440'),\n",
       " (2, 'p1', '010100000000000000000059400000000000003E40'),\n",
       " (3, 'p1', '010100000000000000000059400000000000003440'),\n",
       " (4, 'p1', '01010000000000000000005E400000000000804640'),\n",
       " (5, 'p1', '010100000000000000008061400000000000804140'),\n",
       " (6, 'p1', '01010000000000000000805B400000000000804640'),\n",
       " (7, 'p1', '010100000000000000000059400000000000006940'),\n",
       " (8, 'p1', '010100000000000000000059400000000000005940')]"
      ]
     },
     "execution_count": 8,
     "metadata": {},
     "output_type": "execute_result"
    }
   ],
   "source": [
    "cursor.execute(\"SELECT * from points\")\n",
    "data = cursor.fetchall()\n",
    "data"
   ]
  },
  {
   "cell_type": "markdown",
   "id": "5a425397",
   "metadata": {},
   "source": [
    "## WKB -> Point -> WKT 변환"
   ]
  },
  {
   "cell_type": "code",
   "execution_count": 9,
   "id": "cf05a631",
   "metadata": {},
   "outputs": [
    {
     "data": {
      "text/plain": [
       "'POINT (100 40)'"
      ]
     },
     "execution_count": 9,
     "metadata": {},
     "output_type": "execute_result"
    }
   ],
   "source": [
    "from shapely.wkb import loads\n",
    "aPoint = loads(data[0][2], hex = True)\n",
    "aPoint.wkt"
   ]
  },
  {
   "cell_type": "markdown",
   "id": "12c76241",
   "metadata": {},
   "source": [
    "## 좌표계 설정/변경\n",
    "- updateGeometrySRID : geometry에 좌표계 설정함\n",
    "- Find_SRID : geometry가 어떤 좌표계인지 보여줌\n",
    "- ST_Transform : 좌표계를 변경함"
   ]
  },
  {
   "cell_type": "code",
   "execution_count": 2,
   "id": "38f95add",
   "metadata": {
    "scrolled": false
   },
   "outputs": [
    {
     "ename": "InternalError_",
     "evalue": "오류:  transform: latitude or longitude exceeded limits (-14)\n",
     "output_type": "error",
     "traceback": [
      "\u001b[1;31m---------------------------------------------------------------------------\u001b[0m",
      "\u001b[1;31mInternalError_\u001b[0m                            Traceback (most recent call last)",
      "\u001b[1;32m<ipython-input-2-0edd96c1a617>\u001b[0m in \u001b[0;36m<module>\u001b[1;34m\u001b[0m\n\u001b[0;32m      3\u001b[0m \u001b[0mcursor\u001b[0m\u001b[1;33m.\u001b[0m\u001b[0mfetchall\u001b[0m\u001b[1;33m(\u001b[0m\u001b[1;33m)\u001b[0m\u001b[1;33m\u001b[0m\u001b[1;33m\u001b[0m\u001b[0m\n\u001b[0;32m      4\u001b[0m \u001b[1;33m\u001b[0m\u001b[0m\n\u001b[1;32m----> 5\u001b[1;33m \u001b[0mcursor\u001b[0m\u001b[1;33m.\u001b[0m\u001b[0mexecute\u001b[0m\u001b[1;33m(\u001b[0m\u001b[1;34m\"SELECT name, ST_AsTexT(ST_Transform(location, 3857)) from points\"\u001b[0m\u001b[1;33m)\u001b[0m\u001b[1;33m\u001b[0m\u001b[1;33m\u001b[0m\u001b[0m\n\u001b[0m",
      "\u001b[1;31mInternalError_\u001b[0m: 오류:  transform: latitude or longitude exceeded limits (-14)\n"
     ]
    }
   ],
   "source": [
    "cursor.execute(\"SELECT UpdateGeometrySRID('points', 'location', 4326)\")\n",
    "cursor.execute(\"SELECT Find_SRID('public', 'points', 'location')\")\n",
    "cursor.fetchall()\n",
    "\n",
    "cursor.execute(\"SELECT name, ST_AsTexT(ST_Transform(location, 3857)) from points\")"
   ]
  },
  {
   "cell_type": "markdown",
   "id": "2fc878e9",
   "metadata": {},
   "source": [
    "## 버퍼"
   ]
  },
  {
   "cell_type": "code",
   "execution_count": 5,
   "id": "9d295f71",
   "metadata": {
    "scrolled": true
   },
   "outputs": [
    {
     "data": {
      "text/plain": [
       "[('POLYGON((125 40,117.6776695296637 22.32233047033633,100.00000000000004 15,82.32233047033635 22.322330470336272,75 39.99999999999992,82.32233047033624 57.67766952966362,99.99999999999989 65,117.67766952966359 57.67766952966379,125 40))',),\n",
       " ('POLYGON((125 30,117.6776695296637 12.322330470336329,100.00000000000004 5,82.32233047033635 12.322330470336272,75 29.99999999999992,82.32233047033624 47.67766952966362,99.99999999999989 55,117.67766952966359 47.67766952966379,125 30))',),\n",
       " ('POLYGON((125 20,117.6776695296637 2.322330470336329,100.00000000000004 -5,82.32233047033635 2.322330470336272,75 19.99999999999992,82.32233047033624 37.67766952966362,99.99999999999989 45,117.67766952966359 37.67766952966379,125 20))',),\n",
       " ('POLYGON((145 45,137.67766952966372 27.32233047033633,120.00000000000004 20,102.32233047033635 27.322330470336272,95 44.99999999999992,102.32233047033624 62.67766952966362,119.99999999999989 70,137.6776695296636 62.67766952966379,145 45))',),\n",
       " ('POLYGON((165 35,157.67766952966372 17.32233047033633,140.00000000000003 10,122.32233047033635 17.322330470336272,115 34.99999999999992,122.32233047033624 52.67766952966362,139.9999999999999 60,157.6776695296636 52.67766952966379,165 35))',),\n",
       " ('POLYGON((135 45,127.6776695296637 27.32233047033633,110.00000000000004 20,92.32233047033635 27.322330470336272,85 44.99999999999992,92.32233047033624 62.67766952966362,109.99999999999989 70,127.67766952966359 62.67766952966379,135 45))',),\n",
       " ('POLYGON((125 200,117.6776695296637 182.32233047033634,100.00000000000004 175,82.32233047033635 182.32233047033628,75 199.99999999999991,82.32233047033624 217.6776695296636,99.99999999999989 225,117.67766952966359 217.67766952966377,125 200))',),\n",
       " ('POLYGON((125 100,117.6776695296637 82.32233047033633,100.00000000000004 75,82.32233047033635 82.32233047033627,75 99.99999999999991,82.32233047033624 117.67766952966362,99.99999999999989 125,117.67766952966359 117.67766952966379,125 100))',)]"
      ]
     },
     "execution_count": 5,
     "metadata": {},
     "output_type": "execute_result"
    }
   ],
   "source": [
    "cursor.execute(\"SELECT ST_AsTexT(ST_Buffer(a.location,25.00, 'quad_segs=2')) from points a WHERE a.name='p1'\")\n",
    "data = cursor.fetchall()\n",
    "data\n",
    "\n",
    "# arc name 필드가 p1과 동일한 테이블의 레코드를 선택하고, location 주변에 반지름 25의 버퍼를 선택한다. 그 결과는 폴리곤이 된다"
   ]
  },
  {
   "cell_type": "code",
   "execution_count": 6,
   "id": "4c8d2066",
   "metadata": {},
   "outputs": [
    {
     "data": {
      "image/svg+xml": [
       "<svg xmlns=\"http://www.w3.org/2000/svg\" xmlns:xlink=\"http://www.w3.org/1999/xlink\" width=\"100.0\" height=\"100.0\" viewBox=\"73.0 13.0 54.0 54.0\" preserveAspectRatio=\"xMinYMin meet\"><g transform=\"matrix(1,0,0,-1,0,80.0)\"><path fill-rule=\"evenodd\" fill=\"#66cc99\" stroke=\"#555555\" stroke-width=\"1.08\" opacity=\"0.6\" d=\"M 125.0,40.0 L 117.6776695296637,22.32233047033633 L 100.00000000000004,15.0 L 82.32233047033635,22.322330470336272 L 75.0,39.99999999999992 L 82.32233047033624,57.67766952966362 L 99.99999999999989,65.0 L 117.67766952966359,57.67766952966379 L 125.0,40.0 z\" /></g></svg>"
      ],
      "text/plain": [
       "<shapely.geometry.polygon.Polygon at 0x28980307e50>"
      ]
     },
     "execution_count": 6,
     "metadata": {},
     "output_type": "execute_result"
    }
   ],
   "source": [
    "from shapely.geometry import Polygon\n",
    "from shapely.wkt import loads\n",
    "buff = loads(data[0][0])\n",
    "buff\n",
    "\n",
    "# quad_segs = 1 : 회전된 정사각형, 2 : 8각형"
   ]
  },
  {
   "cell_type": "markdown",
   "id": "14ef28b5",
   "metadata": {},
   "source": [
    "## 거리와 주변"
   ]
  },
  {
   "cell_type": "markdown",
   "id": "6ab2026a",
   "metadata": {},
   "source": [
    "### 1. 두 점 사이의 거리\n",
    "\n",
    "- ::geography는 geometry를 geography로 캐스팅\n",
    "1. location의 id가 1, 2인 두 포인트 a, b 사이의 거리\n",
    "2. location의 id가 1인 포인트 a와 하드코딩 된 포인트 사이의 거리"
   ]
  },
  {
   "cell_type": "code",
   "execution_count": 17,
   "id": "1841d98f",
   "metadata": {},
   "outputs": [
    {
     "data": {
      "text/plain": [
       "[(1109415.63241013,)]"
      ]
     },
     "execution_count": 17,
     "metadata": {},
     "output_type": "execute_result"
    }
   ],
   "source": [
    "cursor.execute(\"SELECT ST_Distance(a.location::geography,b.location::geography) FROM points a, points b where a.id =1 AND b.id = 2\")\n",
    "dist=cursor.fetchall()\n",
    "dist"
   ]
  },
  {
   "cell_type": "code",
   "execution_count": 23,
   "id": "50e882f7",
   "metadata": {},
   "outputs": [
    {
     "data": {
      "text/plain": [
       "[(1109415.63241013,)]"
      ]
     },
     "execution_count": 23,
     "metadata": {},
     "output_type": "execute_result"
    }
   ],
   "source": [
    "cursor.execute(\"SELECT ST_Distance(a.location::geography,ST_GeometryFromText('POINT(100 30)')::geography) FROM points a where a.id = 1\")\n",
    "cursor.fetchall()\n",
    "\n",
    "#from shapely.geometry import Point\n",
    "#p=Point(100, 30)\n",
    "#cursor.execute(\"SELECT ST_Distance(a.location::geography, ST_GeometryFromText('{}')::geography) FROM points a where a.id = 1\".format(p.wkt))\n",
    "#cursor.fetchall()"
   ]
  },
  {
   "cell_type": "markdown",
   "id": "5a0f7374",
   "metadata": {},
   "source": [
    "### 2. 지정된 점으로부터 5개의 포인트와의 거리"
   ]
  },
  {
   "cell_type": "code",
   "execution_count": 5,
   "id": "6e134b93",
   "metadata": {
    "scrolled": true
   },
   "outputs": [
    {
     "data": {
      "text/plain": [
       "[(1, 3781143.38471698),\n",
       " (2, 3839145.44034026),\n",
       " (3, 4164208.30846167),\n",
       " (4, 2416139.88255464),\n",
       " (5, 554479.50375456)]"
      ]
     },
     "execution_count": 5,
     "metadata": {},
     "output_type": "execute_result"
    }
   ],
   "source": [
    "cursor.execute(\"SELECT id, ST_Distance(location::geography, ST_GeometryFromText('POINT(140 30)')::geography) as d from points LIMIT 5\")\n",
    "cursor.fetchall()"
   ]
  },
  {
   "cell_type": "markdown",
   "id": "ef5e9c8c",
   "metadata": {},
   "source": [
    "### 3. KNN을 이용한 지정한 점에 가장 가까운 5개 점"
   ]
  },
  {
   "cell_type": "code",
   "execution_count": 4,
   "id": "7bb673da",
   "metadata": {},
   "outputs": [
    {
     "data": {
      "text/plain": [
       "[(5, 554479.50375456),\n",
       " (4, 2416139.88255464),\n",
       " (6, 3104263.72620867),\n",
       " (2, 3839145.44034026),\n",
       " (3, 4164208.30846167)]"
      ]
     },
     "execution_count": 4,
     "metadata": {},
     "output_type": "execute_result"
    }
   ],
   "source": [
    "cursor.execute(\"SELECT id, ST_Distance(location::geography, ST_GeometryFromText('POINT(140 30)')::geography) as d from points ORDER BY location<->ST_GeometryFromText('POINT(140 30)') LIMIT 5\")\n",
    "cursor.fetchall()"
   ]
  },
  {
   "cell_type": "markdown",
   "id": "e772c66d",
   "metadata": {},
   "source": [
    "## KNN을 이용한 지정한 점에 가장 가까운 3개 점 얻기"
   ]
  },
  {
   "cell_type": "code",
   "execution_count": 2,
   "id": "837e0ff6",
   "metadata": {},
   "outputs": [
    {
     "ename": "InternalError_",
     "evalue": "오류:  parse error - invalid geometry\nHINT:  \"Point(-106.59, 3\" <-- parse error at position 16 within geometry\n",
     "output_type": "error",
     "traceback": [
      "\u001b[1;31m---------------------------------------------------------------------------\u001b[0m",
      "\u001b[1;31mInternalError_\u001b[0m                            Traceback (most recent call last)",
      "\u001b[1;32m<ipython-input-2-0d48e840b993>\u001b[0m in \u001b[0;36m<module>\u001b[1;34m\u001b[0m\n\u001b[1;32m----> 1\u001b[1;33m \u001b[0mcursor\u001b[0m\u001b[1;33m.\u001b[0m\u001b[0mexecute\u001b[0m\u001b[1;33m(\u001b[0m\u001b[1;34m\"SELECT name, ST_Distance(location::geography, ST_GeometryFromText('Point(-106.59, 35.15)')::geography) as d from points ORDER BY location<->ST_GeometryFromText('Point(-106.59, 35.15)') LIMIT 3\"\u001b[0m\u001b[1;33m)\u001b[0m\u001b[1;33m\u001b[0m\u001b[1;33m\u001b[0m\u001b[0m\n\u001b[0m\u001b[0;32m      2\u001b[0m \u001b[0mcursor\u001b[0m\u001b[1;33m.\u001b[0m\u001b[0mfetchall\u001b[0m\u001b[1;33m(\u001b[0m\u001b[1;33m)\u001b[0m\u001b[1;33m\u001b[0m\u001b[1;33m\u001b[0m\u001b[0m\n",
      "\u001b[1;31mInternalError_\u001b[0m: 오류:  parse error - invalid geometry\nHINT:  \"Point(-106.59, 3\" <-- parse error at position 16 within geometry\n"
     ]
    }
   ],
   "source": [
    "cursor.execute(\"SELECT name, ST_Distance(location::geography, ST_GeometryFromText('Point(-106.59, 35.15)')::geography) as d from points ORDER BY location<->ST_GeometryFromText('Point(-106.59, 35.15)') LIMIT 3\")\n",
    "cursor.fetchall() "
   ]
  },
  {
   "cell_type": "markdown",
   "id": "aa8fb9e3",
   "metadata": {},
   "source": [
    "## line 데이터 다루기"
   ]
  },
  {
   "cell_type": "code",
   "execution_count": 26,
   "id": "12546772",
   "metadata": {},
   "outputs": [],
   "source": [
    "from shapely.geometry import LineString\n",
    "from shapely.geometry import MultiLineString\n",
    "\n",
    "connection = psycopg2.connect(database=\"pythonspatial\", user=\"dajomi\", password=\"dajomi\")\n",
    "cursor=connection.cursor()"
   ]
  },
  {
   "cell_type": "code",
   "execution_count": 8,
   "id": "ea565391",
   "metadata": {},
   "outputs": [],
   "source": [
    "cursor.execute(\"CREATE TABLE lines(id SERIAL PRIMARY KEY, location GEOMETRY)\")"
   ]
  },
  {
   "cell_type": "code",
   "execution_count": 9,
   "id": "2cafd30a",
   "metadata": {},
   "outputs": [],
   "source": [
    "thelines = []\n",
    "thelines.append(LineString([(-106.635585,35.086972),(-106.621294,35.124997)]))\n",
    "thelines.append(LineString([(-106.498309,35.140108),(-106.497010,35.069488)])) \n",
    "thelines.append(LineString([(-106.663878,35.106459),(-106.586506,35.103979)]))\n",
    "mls=MultiLineString([((-106.635585,35.086972),(-106.621294,35.124997)),((-106.498309,35.140108),(-106.497010,35.069488)),((-106.663878 ,35.106459),(-106.586506,35.103979))])\n",
    "for a in thelines:\n",
    "    cursor.execute(\"INSERT INTO lines (location) VALUES (ST_GeometryFromText('{}'))\".format(a.wkt))\n",
    "connection.commit()"
   ]
  },
  {
   "cell_type": "code",
   "execution_count": 14,
   "id": "ad70f392",
   "metadata": {},
   "outputs": [
    {
     "data": {
      "text/plain": [
       "[(1, 'LINESTRING(-106.635585 35.086972,-106.621294 35.124997)'),\n",
       " (2, 'LINESTRING(-106.498309 35.140108,-106.49701 35.069488)'),\n",
       " (3, 'LINESTRING(-106.663878 35.106459,-106.586506 35.103979)')]"
      ]
     },
     "execution_count": 14,
     "metadata": {},
     "output_type": "execute_result"
    }
   ],
   "source": [
    "cursor.execute(\"SELECT id, ST_AsTexT(location) from lines\") # ST_AsTexT(geometry column)은 데이터를 WKT로 반환\n",
    "data = cursor.fetchall()\n",
    "data"
   ]
  },
  {
   "cell_type": "markdown",
   "id": "d9b0a356",
   "metadata": {},
   "source": [
    "### 1. 선의 길이"
   ]
  },
  {
   "cell_type": "code",
   "execution_count": 15,
   "id": "ac0c4a88",
   "metadata": {},
   "outputs": [
    {
     "data": {
      "text/plain": [
       "[(1, 4415.210268081089), (2, 7835.6540540819515), (3, 7059.458405023586)]"
      ]
     },
     "execution_count": 15,
     "metadata": {},
     "output_type": "execute_result"
    }
   ],
   "source": [
    "cursor.execute(\"SELECT id, ST_Length(location::geography) FROM lines\")\n",
    "cursor.fetchall()"
   ]
  },
  {
   "cell_type": "markdown",
   "id": "be0445d6",
   "metadata": {},
   "source": [
    "### 2. 길이 오름차순"
   ]
  },
  {
   "cell_type": "code",
   "execution_count": 16,
   "id": "4fdd5e97",
   "metadata": {},
   "outputs": [
    {
     "data": {
      "text/plain": [
       "[(1, 4415.210268081089), (3, 7059.458405023586), (2, 7835.6540540819515)]"
      ]
     },
     "execution_count": 16,
     "metadata": {},
     "output_type": "execute_result"
    }
   ],
   "source": [
    "cursor.execute(\"SELECT id, ST_Length(location::geography) FROM lines ORDER BY ST_Length(location::geography)\")\n",
    "cursor.fetchall()"
   ]
  },
  {
   "cell_type": "markdown",
   "id": "3910ec73",
   "metadata": {},
   "source": [
    "### 3. 선 교차하기"
   ]
  },
  {
   "cell_type": "code",
   "execution_count": 27,
   "id": "2fd87935",
   "metadata": {},
   "outputs": [
    {
     "data": {
      "text/plain": [
       "[(True,)]"
      ]
     },
     "execution_count": 27,
     "metadata": {},
     "output_type": "execute_result"
    }
   ],
   "source": [
    "cursor.execute(\"SELECT ST_Intersects(l.location::geography, ll.location::geography) FROM lines l, lines ll WHERE l.id = 1 AND ll.id = 3\")\n",
    "cursor.fetchall()"
   ]
  },
  {
   "cell_type": "markdown",
   "id": "ee7f5f79",
   "metadata": {},
   "source": [
    "### 4. 교차하는 점"
   ]
  },
  {
   "cell_type": "code",
   "execution_count": 28,
   "id": "0fe9e6e1",
   "metadata": {},
   "outputs": [
    {
     "data": {
      "text/plain": [
       "[('POINT(-106.62868446550843 35.10533709574849)',)]"
      ]
     },
     "execution_count": 28,
     "metadata": {},
     "output_type": "execute_result"
    }
   ],
   "source": [
    "cursor.execute(\"SELECT ST_AsTexT(ST_Intersection(l.location::geography, ll.location::geography)) FROM lines l, lines ll WHERE l.id = 1 AND ll.id = 3\")\n",
    "cursor.fetchall()"
   ]
  },
  {
   "cell_type": "markdown",
   "id": "81b812e5",
   "metadata": {},
   "source": [
    "## polygon 데이터 다루기"
   ]
  },
  {
   "cell_type": "code",
   "execution_count": 37,
   "id": "20962a24",
   "metadata": {},
   "outputs": [],
   "source": [
    "from shapely.geometry import Polygon\n",
    "connection = psycopg2.connect(database=\"pythonspatial\",user=\"dajomi\",password=\"dajomi\")\n",
    "cursor = connection.cursor()"
   ]
  },
  {
   "cell_type": "code",
   "execution_count": 23,
   "id": "342e4f01",
   "metadata": {},
   "outputs": [],
   "source": [
    "cursor.execute(\"CREATE TABLE poly (id SERIAL PRIMARY KEY, location GEOMETRY)\")\n",
    "a = Polygon([(-106.936763,35.958191),(-106.944385,35.239293),(-106.452396,35.281908),(-106.407844,35.948708)]) \n",
    "cursor.execute(\"INSERT INTO poly (location) VALUES (ST_GeomFromText('{}'))\".format(a.wkt))\n",
    "connection.commit()"
   ]
  },
  {
   "cell_type": "markdown",
   "id": "3f0f9591",
   "metadata": {},
   "source": [
    "### 1. polygon Area"
   ]
  },
  {
   "cell_type": "code",
   "execution_count": 25,
   "id": "0ab33ab8",
   "metadata": {
    "scrolled": true
   },
   "outputs": [
    {
     "data": {
      "text/plain": [
       "[(1, 3550790242.521051)]"
      ]
     },
     "execution_count": 25,
     "metadata": {},
     "output_type": "execute_result"
    }
   ],
   "source": [
    "cursor.execute(\"SELECT id, ST_Area(location::geography) FROM poly\")\n",
    "cursor.fetchall()"
   ]
  },
  {
   "cell_type": "markdown",
   "id": "040607ee",
   "metadata": {},
   "source": [
    "### 2. polygon 내부의 포인트(ST_Contains(polygon, point)) <-> ST_Within"
   ]
  },
  {
   "cell_type": "code",
   "execution_count": 38,
   "id": "0672f697",
   "metadata": {},
   "outputs": [
    {
     "data": {
      "text/plain": [
       "[(True,)]"
      ]
     },
     "execution_count": 38,
     "metadata": {},
     "output_type": "execute_result"
    }
   ],
   "source": [
    "from shapely.geometry import Point\n",
    "isin = Point(-106.558743, 35.318618)\n",
    "cursor.execute(\"SELECT ST_Contains(polygon.location, ST_GeomFromText('{}')) FROM poly polygon WHERE polygon.id = 1\".format(isin.wkt))\n",
    "cursor.fetchall()"
   ]
  },
  {
   "cell_type": "markdown",
   "id": "399655ab",
   "metadata": {},
   "source": [
    "### 3. polygon 내부 or 겹치는 포인트(ST_Interesect(point,polygon))"
   ]
  },
  {
   "cell_type": "code",
   "execution_count": 39,
   "id": "f40ed6d8",
   "metadata": {},
   "outputs": [
    {
     "data": {
      "text/plain": [
       "[(True,)]"
      ]
     },
     "execution_count": 39,
     "metadata": {},
     "output_type": "execute_result"
    }
   ],
   "source": [
    "isin=Point(-106.558743, 35.318618)\n",
    "cursor.execute(\"SELECT ST_Intersects(ST_GeomFromText('{}')::geography, polygon.location::geometry) FROM poly polygon WHERE polygon.id = 1\".format(isin.wkt))\n",
    "cursor.fetchall()"
   ]
  },
  {
   "cell_type": "markdown",
   "id": "85d997d3",
   "metadata": {},
   "source": [
    "### 4. polygon과 교차하는 linestring"
   ]
  },
  {
   "cell_type": "code",
   "execution_count": 41,
   "id": "d45ffd1a",
   "metadata": {},
   "outputs": [
    {
     "data": {
      "text/plain": [
       "[('LINESTRING(-106.55 35.31,-106.41171264025137 35.890806910944306)',)]"
      ]
     },
     "execution_count": 41,
     "metadata": {},
     "output_type": "execute_result"
    }
   ],
   "source": [
    "isin = LineString([(-106.55, 35.31), (-106.40, 35.94)])\n",
    "cursor.execute(\"SELECT ST_AsTexT(ST_Intersection(polygon.location, ST_GeomFromText('{}'))) FROM poly polygon WHERE polygon.id = 1\".format(isin.wkt))\n",
    "cursor.fetchall()"
   ]
  },
  {
   "cell_type": "code",
   "execution_count": null,
   "id": "8ce82461",
   "metadata": {},
   "outputs": [],
   "source": []
  }
 ],
 "metadata": {
  "kernelspec": {
   "display_name": "geoenv",
   "language": "python",
   "name": "geoenv"
  },
  "language_info": {
   "codemirror_mode": {
    "name": "ipython",
    "version": 3
   },
   "file_extension": ".py",
   "mimetype": "text/x-python",
   "name": "python",
   "nbconvert_exporter": "python",
   "pygments_lexer": "ipython3",
   "version": "3.8.10"
  }
 },
 "nbformat": 4,
 "nbformat_minor": 5
}
