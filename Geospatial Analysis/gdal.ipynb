{
 "cells": [
  {
   "cell_type": "markdown",
   "id": "004f8a77",
   "metadata": {},
   "source": [
    "# 1. GDAL을 사용해 래스터 데이터 다루기"
   ]
  },
  {
   "cell_type": "code",
   "execution_count": 1,
   "id": "640b26f6",
   "metadata": {},
   "outputs": [],
   "source": [
    "from osgeo import gdal"
   ]
  },
  {
   "cell_type": "markdown",
   "id": "bc9d5671",
   "metadata": {},
   "source": [
    "## TIF 가져오고 메타데이터 출력\n",
    "- 메타데이터 : 생성 및 수정된 날짜, 해상도, 인치당 픽셀 등"
   ]
  },
  {
   "cell_type": "code",
   "execution_count": 5,
   "id": "ccd42907",
   "metadata": {
    "scrolled": true
   },
   "outputs": [
    {
     "name": "stdout",
     "output_type": "stream",
     "text": [
      "{'AREA_OR_POINT': 'Area', 'TIFFTAG_DATETIME': '2002:12:18  8:10:06', 'TIFFTAG_RESOLUTIONUNIT': '2 (pixels/inch)', 'TIFFTAG_SOFTWARE': 'IMAGINE TIFF Support\\nCopyright 1991 - 1999 by ERDAS, Inc. All Rights Reserved\\n@(#)$RCSfile: etif.c $ $Revision: 1.9.3.3 $ $Date: 2002/07/29 15:51:11EDT $', 'TIFFTAG_XRESOLUTION': '96', 'TIFFTAG_YRESOLUTION': '96'}\n"
     ]
    }
   ],
   "source": [
    "nmtif = gdal.Open(r'C:/Users/Administrator/Desktop/nm_relief_color_tif/nm_relief_color.tif')\n",
    "print(nmtif.GetMetadata())"
   ]
  },
  {
   "cell_type": "markdown",
   "id": "0aa97982",
   "metadata": {},
   "source": [
    "## 투영 출력"
   ]
  },
  {
   "cell_type": "code",
   "execution_count": 6,
   "id": "46853966",
   "metadata": {},
   "outputs": [
    {
     "data": {
      "text/plain": [
       "'PROJCS[\"NAD83 / UTM zone 13N\",GEOGCS[\"NAD83\",DATUM[\"North_American_Datum_1983\",SPHEROID[\"GRS 1980\",6378137,298.257222101,AUTHORITY[\"EPSG\",\"7019\"]],TOWGS84[0,0,0,0,0,0,0],AUTHORITY[\"EPSG\",\"6269\"]],PRIMEM[\"Greenwich\",0,AUTHORITY[\"EPSG\",\"8901\"]],UNIT[\"degree\",0.0174532925199433,AUTHORITY[\"EPSG\",\"9122\"]],AUTHORITY[\"EPSG\",\"4269\"]],PROJECTION[\"Transverse_Mercator\"],PARAMETER[\"latitude_of_origin\",0],PARAMETER[\"central_meridian\",-105],PARAMETER[\"scale_factor\",0.9996],PARAMETER[\"false_easting\",500000],PARAMETER[\"false_northing\",0],UNIT[\"metre\",1,AUTHORITY[\"EPSG\",\"9001\"]],AXIS[\"Easting\",EAST],AXIS[\"Northing\",NORTH],AUTHORITY[\"EPSG\",\"26913\"]]'"
      ]
     },
     "execution_count": 6,
     "metadata": {},
     "output_type": "execute_result"
    }
   ],
   "source": [
    "nmtif.GetProjection()"
   ]
  },
  {
   "cell_type": "markdown",
   "id": "c6e2f4a5",
   "metadata": {},
   "source": [
    "## 투영 설정"
   ]
  },
  {
   "cell_type": "code",
   "execution_count": 7,
   "id": "5631a192",
   "metadata": {},
   "outputs": [
    {
     "data": {
      "text/plain": [
       "'PROJCS[\"NAD83 / UTM zone 13N\",GEOGCS[\"NAD83\",DATUM[\"North_American_Datum_1983\",SPHEROID[\"GRS 1980\",6378137,298.257222101,AUTHORITY[\"EPSG\",\"7019\"]],TOWGS84[0,0,0,0,0,0,0],AUTHORITY[\"EPSG\",\"6269\"]],PRIMEM[\"Greenwich\",0,AUTHORITY[\"EPSG\",\"8901\"]],UNIT[\"degree\",0.0174532925199433,AUTHORITY[\"EPSG\",\"9122\"]],AUTHORITY[\"EPSG\",\"4269\"]],PROJECTION[\"Transverse_Mercator\"],PARAMETER[\"latitude_of_origin\",0],PARAMETER[\"central_meridian\",-105],PARAMETER[\"scale_factor\",0.9996],PARAMETER[\"false_easting\",500000],PARAMETER[\"false_northing\",0],UNIT[\"metre\",1,AUTHORITY[\"EPSG\",\"9001\"]],AXIS[\"Easting\",EAST],AXIS[\"Northing\",NORTH],AUTHORITY[\"EPSG\",\"26913\"]]'"
      ]
     },
     "execution_count": 7,
     "metadata": {},
     "output_type": "execute_result"
    }
   ],
   "source": [
    "from osgeo import osr\n",
    "p=osr.SpatialReference()\n",
    "p.ImportFromEPSG(26913)\n",
    "nmtif.SetProjection(p.ExportToWkt())\n",
    "nmtif.GetProjection()"
   ]
  },
  {
   "cell_type": "markdown",
   "id": "a102ded9",
   "metadata": {},
   "source": [
    "## TIF 저장"
   ]
  },
  {
   "cell_type": "code",
   "execution_count": null,
   "id": "471d1225",
   "metadata": {},
   "outputs": [],
   "source": [
    "geoTiffDriver = \"GTiff\"\n",
    "driver=gdal.GetDriverByName(geoTiffDriver)\n",
    "out=driver.CreateCopy(\"copy.tif\",nmtif,strict=0)"
   ]
  },
  {
   "cell_type": "markdown",
   "id": "abf5f7e9",
   "metadata": {},
   "source": [
    "## 래스터 밴드(R,G,B)"
   ]
  },
  {
   "cell_type": "code",
   "execution_count": 8,
   "id": "ec5cc1b8",
   "metadata": {
    "scrolled": true
   },
   "outputs": [
    {
     "data": {
      "text/plain": [
       "3"
      ]
     },
     "execution_count": 8,
     "metadata": {},
     "output_type": "execute_result"
    }
   ],
   "source": [
    "nmtif.RasterCount"
   ]
  },
  {
   "cell_type": "markdown",
   "id": "7ae7d99c",
   "metadata": {},
   "source": [
    "### 단일 밴드의 값"
   ]
  },
  {
   "cell_type": "code",
   "execution_count": 11,
   "id": "40275f75",
   "metadata": {},
   "outputs": [
    {
     "data": {
      "text/plain": [
       "216"
      ]
     },
     "execution_count": 11,
     "metadata": {},
     "output_type": "execute_result"
    }
   ],
   "source": [
    "band = nmtif.GetRasterBand(1)\n",
    "values=band.ReadAsArray()\n",
    "values[1100,1100]"
   ]
  },
  {
   "cell_type": "markdown",
   "id": "055b9cd4",
   "metadata": {},
   "source": [
    "### 특정 픽셀의 세 개의 밴드의 값"
   ]
  },
  {
   "cell_type": "code",
   "execution_count": 12,
   "id": "446467bf",
   "metadata": {},
   "outputs": [
    {
     "name": "stdout",
     "output_type": "stream",
     "text": [
      "216 189 157\n"
     ]
    }
   ],
   "source": [
    "one = nmtif.GetRasterBand(1).ReadAsArray()\n",
    "two=nmtif.GetRasterBand(2).ReadAsArray()\n",
    "three=nmtif.GetRasterBand(3).ReadAsArray()\n",
    "print(str(one[1100,1100])+\" \"+str(two[1100,1100])+\" \"+str(three[1100,1100]))"
   ]
  },
  {
   "cell_type": "markdown",
   "id": "c9b65e32",
   "metadata": {},
   "source": [
    "### 특정 밴드의 평균과 표준편차"
   ]
  },
  {
   "cell_type": "code",
   "execution_count": 15,
   "id": "d2fddacf",
   "metadata": {},
   "outputs": [
    {
     "name": "stdout",
     "output_type": "stream",
     "text": [
      "(225.05771967375847, 34.08382839593031)\n",
      "(215.3145137636133, 37.83657996026153)\n",
      "(195.34890652292185, 53.08308166590347)\n"
     ]
    }
   ],
   "source": [
    "one=nmtif.GetRasterBand(1)\n",
    "two=nmtif.GetRasterBand(2)\n",
    "three=nmtif.GetRasterBand(3)\n",
    "print(one.ComputeBandStats())\n",
    "print(two.ComputeBandStats())\n",
    "print(three.ComputeBandStats())"
   ]
  },
  {
   "cell_type": "code",
   "execution_count": 16,
   "id": "c3dbc7aa",
   "metadata": {},
   "outputs": [
    {
     "name": "stdout",
     "output_type": "stream",
     "text": [
      "0.0 255.0\n"
     ]
    }
   ],
   "source": [
    "print(str(one.GetMinimum())+\" \"+str(one.GetMaximum()))"
   ]
  },
  {
   "cell_type": "markdown",
   "id": "b8208408",
   "metadata": {},
   "source": [
    "### 밴드의 설명"
   ]
  },
  {
   "cell_type": "code",
   "execution_count": 17,
   "id": "ca7e755c",
   "metadata": {},
   "outputs": [
    {
     "name": "stdout",
     "output_type": "stream",
     "text": [
      "Band_2\n",
      "The Green Band\n"
     ]
    }
   ],
   "source": [
    "print(two.GetDescription())\n",
    "two.SetDescription(\"The Green Band\")\n",
    "print(two.GetDescription())"
   ]
  },
  {
   "cell_type": "code",
   "execution_count": 18,
   "id": "76048445",
   "metadata": {},
   "outputs": [],
   "source": [
    "import numpy as np\n",
    "from matplotlib.pyplot import imshow\n",
    "%matplotlib inline"
   ]
  },
  {
   "cell_type": "code",
   "execution_count": 49,
   "id": "ce18c128",
   "metadata": {},
   "outputs": [
    {
     "data": {
      "text/plain": [
       "<matplotlib.image.AxesImage at 0x27b93f3f080>"
      ]
     },
     "execution_count": 49,
     "metadata": {},
     "output_type": "execute_result"
    },
    {
     "data": {
      "image/png": "[encoded data removed]",
      "text/plain": [
       "<Figure size 432x288 with 1 Axes>"
      ]
     },
     "metadata": {
      "needs_background": "light"
     },
     "output_type": "display_data"
    }
   ],
   "source": [
    "data_array=nmtif.ReadAsArray()\n",
    "x=np.array(data_array[0])\n",
    "x.shape\n",
    "w, h = 6652, 6300\n",
    "image = x.reshape(x.shape[0], x.shape[1])\n",
    "\n",
    "imshow(image, cmap='gist_earth')"
   ]
  },
  {
   "cell_type": "markdown",
   "id": "6db59c6c",
   "metadata": {},
   "source": [
    "## 래스터 생성"
   ]
  },
  {
   "cell_type": "code",
   "execution_count": 63,
   "id": "a27ad294",
   "metadata": {},
   "outputs": [],
   "source": [
    "a_raster=np.array([[10,10,1,10,10,10,10],\n",
    "                 [1,1,1,50,10,10,50],\n",
    "                 [10,1,1,51,10,10,50],\n",
    "                 [1,1,1,1,50,10,50]])\n",
    "coord=(-106.629773,35.105389) \n",
    "w, h = 10,10 # 픽셀 사이즈\n",
    "name=\"BigI.tif\""
   ]
  },
  {
   "cell_type": "code",
   "execution_count": 64,
   "id": "a69784a5",
   "metadata": {},
   "outputs": [
    {
     "data": {
      "text/plain": [
       "0"
      ]
     },
     "execution_count": 64,
     "metadata": {},
     "output_type": "execute_result"
    }
   ],
   "source": [
    "d=gdal.GetDriverByName(\"GTiff\")\n",
    "output=d.Create(name, a_raster.shape[1],a_raster.shape[0],1,gdal.GDT_UInt16) # name, x크기, y크기, 밴드 수, 데이터 타입\n",
    "output.SetGeoTransform((coord[0],w,0,coord[1],0,h)) # x_min, pixel_size, 0, y_max, 0, pixel_size\n",
    "output.GetRasterBand(1).WriteArray(a_raster)\n",
    "outsr=osr.SpatialReference()\n",
    "\n",
    "\n",
    "outsr.ImportFromEPSG(4326)\n",
    "output.SetProjection(outsr.ExportToWkt())\n"
   ]
  },
  {
   "cell_type": "code",
   "execution_count": null,
   "id": "ad1fbfd5",
   "metadata": {},
   "outputs": [],
   "source": [
    "output.FlushCache()"
   ]
  },
  {
   "cell_type": "code",
   "execution_count": 53,
   "id": "95d3bae6",
   "metadata": {},
   "outputs": [
    {
     "data": {
      "text/plain": [
       "'GEOGCS[\"WGS 84\",DATUM[\"WGS_1984\",SPHEROID[\"WGS 84\",6378137,298.257223563,AUTHORITY[\"EPSG\",\"7030\"]],AUTHORITY[\"EPSG\",\"6326\"]],PRIMEM[\"Greenwich\",0,AUTHORITY[\"EPSG\",\"8901\"]],UNIT[\"degree\",0.0174532925199433,AUTHORITY[\"EPSG\",\"9122\"]],AXIS[\"Latitude\",NORTH],AXIS[\"Longitude\",EAST],AUTHORITY[\"EPSG\",\"4326\"]]'"
      ]
     },
     "execution_count": 53,
     "metadata": {},
     "output_type": "execute_result"
    }
   ],
   "source": [
    "output.GetProjection()"
   ]
  },
  {
   "cell_type": "code",
   "execution_count": 59,
   "id": "fca2a6d5",
   "metadata": {},
   "outputs": [
    {
     "data": {
      "text/plain": [
       "array([[10, 10,  1, 10, 10, 10, 10],\n",
       "       [ 1,  1,  1, 50, 10, 10, 50],\n",
       "       [10,  1,  1, 51, 10, 10, 50],\n",
       "       [ 1,  1,  1,  1, 50, 10, 50]], dtype=uint16)"
      ]
     },
     "execution_count": 59,
     "metadata": {},
     "output_type": "execute_result"
    },
    {
     "data": {
      "image/png": "[encoded data removed]",
      "text/plain": [
       "<Figure size 432x288 with 1 Axes>"
      ]
     },
     "metadata": {
      "needs_background": "light"
     },
     "output_type": "display_data"
    }
   ],
   "source": [
    "data = output.ReadAsArray()\n",
    "#w, h = 4, 7\n",
    "#image = data.reshape(w,h)\n",
    "imshow(image,cmap='Blues')\n",
    "data"
   ]
  },
  {
   "cell_type": "markdown",
   "id": "fa2a495e",
   "metadata": {},
   "source": [
    "# 2. PostgreSQL에서 래스터 처리하기"
   ]
  },
  {
   "cell_type": "code",
   "execution_count": 67,
   "id": "b978f314",
   "metadata": {},
   "outputs": [],
   "source": [
    "import psycopg2\n",
    "connection = psycopg2.connect(database=\"pythonspatial\",user=\"dajomi\",password=\"dajomi\")\n",
    "cursor = connection.cursor()"
   ]
  },
  {
   "cell_type": "code",
   "execution_count": 68,
   "id": "45cbb280",
   "metadata": {},
   "outputs": [
    {
     "ename": "UndefinedTable",
     "evalue": "오류:  \"bigi\" 이름의 릴레이션(relation)이 없습니다\nLINE 1: SELECT * from bigi\n                      ^\n",
     "output_type": "error",
     "traceback": [
      "\u001b[1;31m---------------------------------------------------------------------------\u001b[0m",
      "\u001b[1;31mUndefinedTable\u001b[0m                            Traceback (most recent call last)",
      "\u001b[1;32m<ipython-input-68-ea74a5dd35ce>\u001b[0m in \u001b[0;36m<module>\u001b[1;34m\u001b[0m\n\u001b[1;32m----> 1\u001b[1;33m \u001b[0mcursor\u001b[0m\u001b[1;33m.\u001b[0m\u001b[0mexecute\u001b[0m\u001b[1;33m(\u001b[0m\u001b[1;34m\"SELECT * from bigi\"\u001b[0m\u001b[1;33m)\u001b[0m\u001b[1;33m\u001b[0m\u001b[1;33m\u001b[0m\u001b[0m\n\u001b[0m",
      "\u001b[1;31mUndefinedTable\u001b[0m: 오류:  \"bigi\" 이름의 릴레이션(relation)이 없습니다\nLINE 1: SELECT * from bigi\n                      ^\n"
     ]
    }
   ],
   "source": [
    "cursor.execute(\"SELECT * from bigi\")"
   ]
  },
  {
   "cell_type": "code",
   "execution_count": null,
   "id": "d7cab6bb",
   "metadata": {},
   "outputs": [],
   "source": []
  }
 ],
 "metadata": {
  "kernelspec": {
   "display_name": "Python 3",
   "language": "python",
   "name": "python3"
  },
  "language_info": {
   "codemirror_mode": {
    "name": "ipython",
    "version": 3
   },
   "file_extension": ".py",
   "mimetype": "text/x-python",
   "name": "python",
   "nbconvert_exporter": "python",
   "pygments_lexer": "ipython3",
   "version": "3.6.13"
  }
 },
 "nbformat": 4,
 "nbformat_minor": 5
}
